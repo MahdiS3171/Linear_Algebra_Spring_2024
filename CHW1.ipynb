{
 "cells": [
  {
   "cell_type": "markdown",
   "metadata": {},
   "source": [
    "<h1 align=\"center\">Mathematical Methods in Engineering - Course Code: 25872</h1>\n",
    "<h4 align=\"center\">Instructor: Dr. Amiri</h4>\n",
    "<h4 align=\"center\">Sharif University of Technology, Spring 2023</h4>\n",
    "<h4 align=\"center\">Computer Assignment 1</h4>\n",
    "<h4 align=\"center\">\n",
    "\n",
    "Questions 1 & 3: [Ghazal Hosseini](https://t.me/GhLmu), Questions 2, 4, & 5: [Borna Khodabandeh](https://t.me/BornaKhodabandeh)\n",
    "\n",
    "</h4>"
   ]
  },
  {
   "cell_type": "markdown",
   "metadata": {},
   "source": [
    "<p>\n",
    "    Write your code in the <span style=\"color: green;\">Code Cell</span> and run the <span style=\"color: green;\">Evaluation Cell</span> to check the output.<br>\n",
    "    <span style=\"color: red; font-weight: bold;\">Please refrain from editing the existing codes.</span>\n",
    "</p>\n"
   ]
  },
  {
   "cell_type": "code",
   "execution_count": null,
   "metadata": {},
   "outputs": [],
   "source": [
    "Name = \"Seyed Amirmahdi Sadrzadeh\"\n",
    "Student_Number = \"401102015\""
   ]
  },
  {
   "cell_type": "markdown",
   "metadata": {},
   "source": [
    "### Importing necessary libraries"
   ]
  },
  {
   "cell_type": "code",
   "execution_count": 4,
   "metadata": {},
   "outputs": [],
   "source": [
    "import cv2\n",
    "import numpy as np\n",
    "import matplotlib.pyplot as plt"
   ]
  },
  {
   "cell_type": "markdown",
   "metadata": {},
   "source": [
    "## Problem 1: 2D transformation matrices ``(20 pt.)``\n",
    "### 1.1 Implementing Geometric Transformations \n",
    "\n",
    "Create Python functions for 2D geometric transformations using transformation matrices: translation, rotation, scaling, and shearing. Each function should take a point and the transformation parameters as input and return the transformed point.\n",
    "\n",
    "Translation: Shifts points by given x and y offset.\n",
    "\n",
    "\n",
    "Rotation: Rotates points around the origin by a specified angle (in degrees).\n",
    "\n",
    "\n",
    "Scaling: Scales points by given factors along the x and y axes.\n",
    "\n",
    "\n",
    "Shearing: Shears points along the x or y axis by specified amounts. "
   ]
  },
  {
   "cell_type": "code",
   "execution_count": 14,
   "metadata": {},
   "outputs": [],
   "source": [
    "# Code cell\n"
   ]
  },
  {
   "cell_type": "markdown",
   "metadata": {},
   "source": [
    "### 1.2 Visualization \n",
    "\n",
    "Now, try to visualize three shapes or matrices after applying each of transformations on them using the functions you implemented. You can create plots to show the original shape and the transformed shapes after applying translation, rotation, scaling, and shearing.\n",
    "\n",
    "Ensure you provide clear visualizations with appropriate labels and legends to distinguish between the original and transformed shapes."
   ]
  },
  {
   "cell_type": "code",
   "execution_count": null,
   "metadata": {},
   "outputs": [],
   "source": [
    "# Code cell"
   ]
  },
  {
   "cell_type": "markdown",
   "metadata": {},
   "source": [
    "### 1.3 QR Decomposition and Visualization (Bonus)\n",
    "\n",
    "### QR Decomposition for 2x2 Matrices\n",
    "\n",
    "For a 2x2 matrix $ A $, the QR decomposition expresses $ A $ as the product of two matrices: $ Q $ and $ R $.\n",
    "\n",
    "1. **Orthogonal Matrix $ Q $ (Rotation Matrix):**\n",
    "   - The matrix $ Q $ is orthogonal, meaning its transpose is equal to its inverse. For a 2x2 matrix, $ Q $ represents a rotation.\n",
    "   - In simpler terms, $ Q $ captures the rotational aspect of the transformation.\n",
    "\n",
    "2. **Upper Triangular Matrix $ R $ (Scaling and Shearing):**\n",
    "   - The matrix $ R $ is upper triangular, containing scaling and shearing information.\n",
    "   - The diagonal elements of $ R $ represent the scaling factors along the principal axes, and the off-diagonal elements introduce shearing effects.\n",
    "\n",
    "in simple terms:\n",
    "\n",
    "$$\n",
    "    A = QR, \\quad Q^TQ=I\\\\[1em]\n",
    "    A=[a_1a_2]=QR=[q_1q_2]\\begin{bmatrix}r_{11} & r_{12}\\\\0 & r_{22}\\end{bmatrix}\\\\[1em]\n",
    "    a_1 = r_{11}q_1, \\quad a_2 = r_{12}q_1 + r_{22}q_2\\\\[1em]\n",
    "    q_1^Tq_1 = q_2^Tq_2 = 1, \\quad q_1^Tq_2 = 0\n",
    "$$\n",
    "\n",
    "#### QR Decomposition as a Geometric Transformation\n",
    "\n",
    "Given a 2x2 matrix  $A$ , QR decomposition expresses $A$ as the product of an orthogonal matrix $Q$ (which is a rotation matrix) and an upper triangular matrix $R$. In this context, $Q$ represents a rotation, and $R$ includes scaling and additional shearing.\n",
    "\n",
    "Consider following matrix and apply QR decomposition to it, and then visualize how the transformations done by $A$ is the same as first sheering and scaling with $R$ and then following this with a rotation $Q$.\n",
    "\n",
    "$$\n",
    "    A = \\frac{1}{\\sqrt{2}}\\begin{bmatrix}\n",
    "        1 & 1\\\\\n",
    "        1 & 3\n",
    "    \\end{bmatrix}\n",
    "$$"
   ]
  },
  {
   "cell_type": "code",
   "execution_count": null,
   "metadata": {},
   "outputs": [],
   "source": [
    "# Code cell"
   ]
  },
  {
   "cell_type": "markdown",
   "metadata": {},
   "source": [
    "## Problem 2: Gauss Elimination and Elementary Matrices ``(30 pt.)``\n",
    "### 2-1- Gaussian Elimination\n",
    "\n",
    "Gaussian Elimination is an algorithm in linear algebra used for various purposes like solving a system of linear\n",
    "equations, finding the rank of a matrix, calculating the determinant of a matrix etc. In Gauss elimination\n",
    "method, given any matrix, we use a sequence of elementary row operations and transform the matrix into Row\n",
    "echelon form.\n",
    "And for each of such elementary row operation, there will be elementary matrix you need to multiply with the\n",
    "matrix. An elementary matrix is a matrix which differs from the identity matrix by one single elementary\n",
    "row operation and Left multiplication by an elementary matrix represents elementary row operations.Here is\n",
    "an example:\n",
    "\n",
    "- **Step 1**: \n",
    "$$\\begin{bmatrix}\n",
    "    1 & 0 & 0\\\\\n",
    "    5 & -1& 0\\\\\n",
    "    0 & 0 & 1\n",
    "\\end{bmatrix}\\begin{bmatrix}\n",
    "    1 & 3 & 1\\\\\n",
    "    5 & 10& 2\\\\\n",
    "    1 & 8 & 9\n",
    "\\end{bmatrix}=\\begin{bmatrix}\n",
    "    1 & 3 & 1\\\\\n",
    "    0 & 5& 3\\\\\n",
    "    1 & 8 & 9\n",
    "\\end{bmatrix}$$\n",
    "- **Step 2**: \n",
    "$$\\begin{bmatrix}\n",
    "    1 & 0 & 0\\\\\n",
    "    0 & 1& 0\\\\\n",
    "    -1 & 0 & 1\n",
    "\\end{bmatrix}\\begin{bmatrix}\n",
    "    1 & 3 & 1\\\\\n",
    "    0 & 5& 3\\\\\n",
    "    1 & 8 & 9\n",
    "\\end{bmatrix}=\\begin{bmatrix}\n",
    "    1 & 3 & 1\\\\\n",
    "    0 & 5& 3\\\\\n",
    "    0 & 5 & 8\n",
    "\\end{bmatrix}$$\n",
    "- **Step 3**: \n",
    "$$\\begin{bmatrix}\n",
    "    1 & 0 & 0\\\\\n",
    "    0 & 1& 0\\\\\n",
    "    0 & -1 & 1\n",
    "\\end{bmatrix}\\begin{bmatrix}\n",
    "    1 & 3 & 1\\\\\n",
    "    0 & 5& 3\\\\\n",
    "    0 & 5 & 8\n",
    "\\end{bmatrix}=\\begin{bmatrix}\n",
    "    1 & 3 & 1\\\\\n",
    "    0 & 5& 3\\\\\n",
    "    0 & 0 & 5\n",
    "\\end{bmatrix}$$\n",
    "\n",
    "You have to write a code for Gauss-Jordan Elimination which will take a matrix as input and as output\n",
    "the code will return and optionally print the following:\n",
    "\n",
    "- Rank of the given Matrix.\n",
    "- Row echelon form of the matrix.\n",
    "- The sequence of elementary matrices used in each step (print in order).\n",
    "\n",
    "You are not allowed to use any library function. You need to implement it from scratch. **do not change the input matrix**"
   ]
  },
  {
   "cell_type": "code",
   "execution_count": 51,
   "metadata": {},
   "outputs": [],
   "source": [
    "# Code cell\n",
    "def GaussianElimination(A, print_results = True):\n",
    "    rank = ...\n",
    "    ref = ...\n",
    "    elementary = ...\n",
    "    if print_results:\n",
    "        pass\n",
    "    return rank, ref, elementary "
   ]
  },
  {
   "cell_type": "code",
   "execution_count": null,
   "metadata": {},
   "outputs": [],
   "source": [
    "# Evaluation Cell\n",
    "import numpy as np\n",
    "\n",
    "# Evaluation\n",
    "# Generate a random matrix\n",
    "n = np.random.randint(2, 6)\n",
    "A = np.random.randint(-5, 5, size=(n, n))\n",
    "\n",
    "# Perform Gaussian Elimination\n",
    "rank, ref, elementary = GaussianElimination(A.copy(), print_results=False)\n",
    "\n",
    "# Check the correctness of the results\n",
    "assert rank == np.linalg.matrix_rank(A), \"Rank calculation is incorrect\"\n",
    "assert np.allclose(np.triu(ref), ref), \"The row echelon form is incorrect\"\n",
    "\n",
    "# Check if the elementary matrices multiply to the original matrix\n",
    "reconstructed_ref = A.copy()\n",
    "for elem_matrix in elementary:\n",
    "    reconstructed_ref = np.dot(elem_matrix, reconstructed_ref)\n",
    "\n",
    "assert np.allclose(ref, reconstructed_ref), \"The reconstructed matrix does not match the original matrix\"\n",
    "\n",
    "print('status: successful')"
   ]
  },
  {
   "cell_type": "markdown",
   "metadata": {},
   "source": [
    "## 2-2. LDU decomposition\n",
    "In linear algebra, LU decomposition factors a matrix ($\\textbf{A} :n \\times n$) as the product of a lower triangular matrix ($\\textbf{L} :n \\times n$) and an upper triangular matrix ($\\textbf{U} :n \\times n$). The product sometimes includes a permutation matrix ($\\textbf{P} :n \\times n$) as well.\n",
    "$$ \\textbf{PA} = \\textbf{LU} $$\n",
    "We know that the elements on the main diagonal of the $\\textbf{U}$ are the pivots. So $\\textbf{U}$ can be decomposed into a diagonal matrix ($\\textbf{D} :n \\times n$) with elements whose pivots are on the main diagonal and a normalized $\\textbf{U}$ matrix.\n",
    "$$ \\textbf{PA} = \\textbf{LDU} $$\n",
    "\n",
    "You are encouraged to leverage the Gaussian Elimination methods you've implemented in the previous question.\n",
    "\n",
    ">Complete the function below.<br>\n",
    ">Note that in this problem, we assume that the elimination process does not require any row permutation.<br>"
   ]
  },
  {
   "cell_type": "code",
   "execution_count": null,
   "metadata": {},
   "outputs": [],
   "source": [
    "# Code cell\n",
    "def LDU_decomposition(A):\n",
    "    pass"
   ]
  },
  {
   "cell_type": "code",
   "execution_count": null,
   "metadata": {},
   "outputs": [],
   "source": [
    "# Evaluation Cell\n",
    "n = np.random.randint(10,50)\n",
    "A = np.random.randn(n, n)\n",
    "L,D,U = LDU_decomposition(A.copy())\n",
    "\n",
    "assert np.linalg.norm(L - np.tril(L)) < 1e-10, \"L is not lower triangular\"\n",
    "assert np.linalg.norm(D - np.diag(np.diag(D))) < 1e-10, \"D is not diagonal\"\n",
    "assert np.linalg.norm(U - np.triu(U)) < 1e-10, \"U is not upper triangular\"\n",
    "assert np.linalg.norm(A - L @ D @ U) < 1e-10, \"L and D and U does not satisfy A = LDU\"\n",
    "\n",
    "print('status: successful')"
   ]
  },
  {
   "cell_type": "markdown",
   "metadata": {},
   "source": [
    "### 2-3. Matrix Determinant and Matrix Inverse\n",
    "\n",
    "#### 2-3-1. Matrix Determinant\n",
    "\n",
    "The determinant of a square matrix is a scalar value that can be computed from its elements. For a 2x2 matrix:\n",
    "\n",
    "$$\n",
    "\\text{det}\\begin{bmatrix}\n",
    "a & b\\\\\n",
    "c & d\n",
    "\\end{bmatrix} = ad - bc\n",
    "$$\n",
    "\n",
    "And for a 3x3 matrix:\n",
    "\n",
    "$$\n",
    "\\text{det}\\begin{bmatrix}\n",
    "a & b & c\\\\\n",
    "d & e & f\\\\\n",
    "g & h & i\n",
    "\\end{bmatrix} = a(ei - fh) - b(di - fg) + c(dh - eg)\n",
    "$$\n",
    "\n",
    "Write a function `det(matrix)` that takes a square matrix as input and returns its determinant. You are encouraged to leverage the Gaussian Elimination methods you've implemented in the previous question.\n",
    "\n",
    "> then use `np.linalg.det` to check your answer \n",
    "\n",
    "#### 2-3-2. Matrix Inverse\n",
    "\n",
    "The inverse of a square matrix $A$ is denoted as $A^{-1}$, and it satisfies the property that $A \\cdot A^{-1} = I$, where $I$ is the identity matrix.\n",
    "\n",
    "To find the inverse, you can use the Gaussian Elimination methods you've implemented. For a 2x2 matrix:\n",
    "\n",
    "$$\n",
    "A^{-1} = \\frac{1}{ad - bc}\\begin{bmatrix}\n",
    "d & -b\\\\\n",
    "-c & a\n",
    "\\end{bmatrix}\n",
    "$$\n",
    "\n",
    "And for a $n\\times n$ matrix:\n",
    "\n",
    "$$\n",
    "A^{-1} = \\frac{1}{\\text{det}(A)} \\text{adj}(A)\n",
    "$$\n",
    "\n",
    "Write a function `inv(matrix)` that takes a square matrix as input and returns its inverse if it exists. If the matrix is not invertible, print a message indicating that fact, and return `None`. Feel free to leverage the Gaussian Elimination methods you've implemented in the previous question.\n",
    "\n",
    "> then use `np.linalg.inv` to check your answer "
   ]
  },
  {
   "cell_type": "code",
   "execution_count": null,
   "metadata": {},
   "outputs": [],
   "source": [
    "# Code cell\n",
    "\n",
    "def det(A):\n",
    "    pass\n",
    "\n",
    "def inv(A):\n",
    "    pass"
   ]
  },
  {
   "cell_type": "code",
   "execution_count": null,
   "metadata": {},
   "outputs": [],
   "source": [
    "# Evaluation Cell\n",
    "\n",
    "# Test the determinant function\n",
    "A_det = np.random.randint(1, 10, size=(3, 3))\n",
    "det_A = det(A_det)\n",
    "assert np.isclose(det_A, np.linalg.det(A_det)), \"Determinant calculation is incorrect\"\n",
    "\n",
    "# Test the inverse function\n",
    "A_inv = np.random.randint(1, 10, size=(3, 3))\n",
    "inv_A = inv(A_inv)\n",
    "assert np.allclose(inv_A @ A_inv, np.eye(3)), \"Inverse calculation is incorrect\"\n",
    "\n",
    "print('status: successful')"
   ]
  },
  {
   "cell_type": "markdown",
   "metadata": {},
   "source": [
    "## Problem 3: Polyfit ``(25 pt.)``"
   ]
  },
  {
   "cell_type": "markdown",
   "metadata": {},
   "source": [
    "###  3.1 System of linear equations"
   ]
  },
  {
   "cell_type": "markdown",
   "metadata": {},
   "source": [
    "A system of linear equations (or linear system) is a finite collection of linear equations in a collection\n",
    "of variables. For instance, a linear system of m equations in n variables $x_1 , x_2 , \\dots, x_n$ can be written as\n",
    "\n",
    "$$\n",
    "\\begin{cases}\n",
    "    \\begin{align*}\n",
    "        a_{11}x_1+a_{12}x_2+\\dots+a_{1n}x_n&=b_1\\\\\n",
    "        a_{21}x_1+a_{22}x_2+\\dots+a_{2n}x_n&=b_2\\\\\n",
    "        &\\vdots\\\\\n",
    "        a_{m1}x_1+a_{m2}x_2+\\dots+a_{mn}x_n&=b_m\\\\\n",
    "    \\end{align*}\n",
    "\\end{cases}\n",
    "$$\n",
    "\n",
    "A solution of the above linear system is a tuple $(s_1 , s_2 , \\dots, s_n )$ of numbers that makes each equation a true\n",
    "statement when the values $s_1, s_2 , \\dots, s_n$ are substituted for $x_1 , x_2 , \\dots, x_n$ respectively. The set of all solutions of\n",
    "a linear system is called the solution set of the system.\n",
    "Any system of linear equations has one of the following exclusive conclusions.\n",
    "\n",
    "- No solution\n",
    "- Unique solution\n",
    "- Infinitely many solutions\n",
    "\n",
    "you will be given the matrix $A$ and the vector $b$ as input, fill the function to do the following:\n",
    "\n",
    "- If system is inconsistent it will print **”NO SOLUTION EXISTS !”** and return `None`\n",
    "- If system is consistent and has unique solution, print **”UNIQUE SOLUTION EXISTS !”** and print\n",
    "that solution in the next line, return the tuple $s$ in this case\n",
    "- If system is consistent and has infinitely many solution, print **”MANY SOLUTIONS EXISTS !”** and print\n",
    "one of the solutions in the next line, return one tuple $s$ in this case"
   ]
  },
  {
   "cell_type": "code",
   "execution_count": null,
   "metadata": {},
   "outputs": [],
   "source": [
    "# Code cell\n",
    "def LinearSystemSolver(A, b, print_results = True):\n",
    "    s = ...\n",
    "    if print_results:\n",
    "        pass\n",
    "    return s"
   ]
  },
  {
   "cell_type": "code",
   "execution_count": 88,
   "metadata": {},
   "outputs": [
    {
     "name": "stdout",
     "output_type": "stream",
     "text": [
      "status: successful\n"
     ]
    }
   ],
   "source": [
    "# Evaluation Cell\n",
    "\n",
    "# Test case 1: No solution\n",
    "A_no_solution = np.array([[2, 1], [4, 2]])\n",
    "b_no_solution = np.array([5, 2])\n",
    "assert LinearSystemSolver(A_no_solution, b_no_solution, print_results=False) is None, \"No solution test failed\"\n",
    "\n",
    "# Test case 2: Unique solution\n",
    "A_unique_solution = np.array([[1, 2], [3, 4]])\n",
    "b_unique_solution = np.array([5, 11])\n",
    "s_unique_solution = LinearSystemSolver(A_unique_solution, b_unique_solution, print_results=False)\n",
    "expected_unique_solution = np.linalg.solve(A_unique_solution, b_unique_solution)\n",
    "assert np.allclose(s_unique_solution, expected_unique_solution), \"Unique solution test failed\"\n",
    "\n",
    "# Test case 3: Infinitely many solutions\n",
    "A_many_solutions = np.array([[1, 2], [2, 4]])\n",
    "b_many_solutions = np.array([3, 6])\n",
    "s_many_solutions = LinearSystemSolver(A_many_solutions, b_many_solutions, print_results=False)\n",
    "\n",
    "# Check if Ax = b\n",
    "assert np.allclose(np.dot(A_many_solutions, s_many_solutions), b_many_solutions), \"Infinitely many solutions test failed\"\n",
    "\n",
    "print('status: successful')"
   ]
  },
  {
   "cell_type": "markdown",
   "metadata": {},
   "source": [
    "###  3.2 Polynomial Curve Fitting\n",
    "\n",
    "Consider this question : How to find a cubic polynomial that passes through each of these points $(1,3)$,$(2, -2)$ ,$(3, -5)$, and $(4, 0)$.\n",
    "\n",
    "The form of cubic polynomial is \n",
    "\n",
    "\\begin{align*}\n",
    "y=a_0+a_1x+a_2x^2+a_3x^3\n",
    "\\end{align*}\n",
    "We substitute all the points:\n",
    "\n",
    "\\begin{align*}\n",
    "(x,y)=(1,3)\\qquad&\\longrightarrow\\qquad a_0+3a_1+9a_2 +27a_3=2 \\\\\n",
    "(x,y)=(2,-2)\\qquad&\\longrightarrow\\qquad a_0+a_1+a_2+a_3=3\\\\\n",
    "(x,y)=(3,-5)\\qquad&\\longrightarrow\\qquad a_0-4a_1+16a_2-64a_3=2\\\\\n",
    "(x,y)=(4,0)\\qquad&\\longrightarrow\\qquad -a_0+2a_1+4a_2+8a_3=-2\n",
    "\\end{align*}\n",
    "\n",
    "It turns to be a linear system.\n"
   ]
  },
  {
   "cell_type": "markdown",
   "metadata": {},
   "source": [
    "\n",
    "Given a set of data points $(x_1, y_1), (x_2, y_2), \\dots, (x_n, y_n)$ where $p(x_i) = y_i$, you are asked to write a function to find the coefficients of the polynomial using a linear solving system.\n",
    "\n",
    "In this situation, you can use the method of polynomial interpolation to find the coefficients of the polynomial that passes through all the given data points. To do this, you will set up a system of linear equations by substituting the points into the polynomial equation and then solve for the coefficients of the polynomial.\n"
   ]
  },
  {
   "cell_type": "code",
   "execution_count": null,
   "metadata": {},
   "outputs": [],
   "source": [
    "# Code cell\n",
    "def PolySolver(x, y, degree):\n",
    "    coefficients = ...\n",
    "    return coefficients"
   ]
  },
  {
   "cell_type": "markdown",
   "metadata": {},
   "source": [
    "Now you should generate 3 set of random data points with varying sizes (4, 6, 8 points) and find the polynomial coefficients using your function. Additionally, compare the results with the coefficients obtained from the numpy.polyfit and visualize the fitted polynomial for each dataset."
   ]
  },
  {
   "cell_type": "code",
   "execution_count": null,
   "metadata": {},
   "outputs": [],
   "source": [
    "# Code cell"
   ]
  },
  {
   "cell_type": "markdown",
   "metadata": {},
   "source": [
    "## Problem 4: Text retrieval ``(25 pt.)``\n"
   ]
  },
  {
   "cell_type": "markdown",
   "metadata": {},
   "source": [
    "### 4-1. Word embeddings\n",
    "\n",
    "As you know, computers are inherently non-understanding entities and strive to maintain their non-understanding nature. One of the examples of a computer's non-understanding is its inability to comprehend texts and similarities between them. The challenge lies in the fact that, to make a computer understand a text, we have no choice but to generate a vector representation of it. A common representation in computers for texts is using ASCII or UTF codes for character storage and employing a sequence of these codes for text storage. However, the issue with this representation is that it lacks any connection to the semantic meaning of words and sentences.\n",
    "\n",
    "Now, we want to introduce a new representation for sentences. Suppose we have a collection of m sentences, each consisting of n distinct words. We will define the following two matrices based on the words and sentences.\n",
    "\n",
    "![word embedding](https://corpling.hypotheses.org/files/2018/04/3dplot-768x586.jpg)\n",
    "\n",
    "(a) **Word Frequency Matrix:**\n",
    "   - Each word that is more frequently repeated in a sentence will likely play a more prominent role in the meaning of that sentence.\n",
    "   - The word frequency matrix, denoted as $F$, is an $n \\times m$ matrix, where its element $(i,j)$ represents the frequency of word j in sentence i.\n",
    "   - For example, in the sentence bellow we have 6 words, and the word \"desert\" is repeated twice. Therefore, the frequency of this word in the sentence is $\\frac{2}{6}$.\n",
    "   > \"I like eating dessert in the desert,\"\n",
    "\n",
    "   $$F_{ij}=\\frac{|\\{\\text{repetitions of word j in sentence i}\\}|}{|\\{\\text{words in sentence i}\\}|}$$\n",
    "\n",
    "(b) **Word Occurrence Matrix:**\n",
    "   - Words that appear in more sentences probably have less specific meaning.\n",
    "   - The occurrence matrix (or vector) of words is an n × 1 matrix, where its i-th element is equal to the logarithm of the ratio of the total number of sentences to the number of sentences containing the i-th word.\n",
    "   - In mathematical terms, if $D$ is the set of all sentences, and $D_i$ is the subset of sentences that contain the i-th word, then the i-th element of the word occurrence matrix (denoted as I) is given by:\n",
    "     $$\n",
    "     I_i=\\ln\\left(\\frac{D}{D_i}\\right)\n",
    "     $$\n",
    "   - Now, the representation of the i-th sentence is obtained by multiplying the corresponding row of the word frequency matrix by the word occurrence matrix element-wise.\n",
    "\n",
    "### Implementation\n",
    "\n",
    "In this problem, we have a set $S$ containing a certain number of sentences. In the first step, you need to compute the representations of these sentences. Then, a query sentence is given, and its representation is calculated based on the previously computed representations of the sentences. Finally, you need to return the index of the most similar sentence in $S$ to the query, determined through the **cosine distance** determined by the angle between the vectors.\n",
    "\n",
    "Before performing any of these steps, you should remove punctuation marks from the text. Also, consider case insensitivity.\n",
    "\n",
    "write a function `query_sentence` that takes the set of sentences $S$ and the sentence $x$ and returns the closest match and it index.\n",
    "\n",
    "you can do anything to improve performance, note that only the quality of the results matter.\n",
    "\n",
    "*Example:*\n",
    "\n",
    "$$\n",
    "   S = \\{\n",
    "      \\text{\"This is the first document.\"},\n",
    "      \\text{\"This document is the second document.\"},\n",
    "      \\text{\"And that is the third one.\"}\n",
    "      \\}\\\\\n",
    "   x = \"\\text{Is this the first document?}\"\\\\\n",
    "   \\Rightarrow y = \"\\text{This is the first document.}\"\n",
    "$$"
   ]
  },
  {
   "cell_type": "code",
   "execution_count": null,
   "metadata": {},
   "outputs": [],
   "source": [
    "# Code cell\n",
    "def query_sentence(S, x):\n",
    "    pass"
   ]
  },
  {
   "cell_type": "code",
   "execution_count": null,
   "metadata": {},
   "outputs": [],
   "source": [
    "# Evaluation cell\n",
    "\n",
    "S = [\n",
    "    \"This is the first document.\",\n",
    "    \"This document is the second document.\",\n",
    "    \"And that is the third one.\"\n",
    "]\n",
    "x = \"Is this the first document?\"\n",
    "\n",
    "y, idx = query_sentence(S, x)\n",
    "\n",
    "assert y == S[0]\n",
    "assert idx == 0\n",
    "\n",
    "print('status: successful')"
   ]
  },
  {
   "cell_type": "code",
   "execution_count": null,
   "metadata": {},
   "outputs": [],
   "source": [
    "# Evaluation cell\n",
    "\n",
    "test_set = [\n",
    "    \"Matrix multiplication is a fundamental operation in linear algebra.\",\n",
    "    \"Eigenvalues and eigenvectors play a crucial role in matrix transformations.\",\n",
    "    \"Linear independence is a key concept when dealing with vectors in a vector space.\",\n",
    "    \"Solving systems of linear equations involves finding the values that satisfy multiple equations simultaneously.\",\n",
    "    \"Determinants are useful for understanding the properties of square matrices.\",\n",
    "    \"Row reduction, also known as Gaussian elimination, is a common technique in solving linear systems.\",\n",
    "    \"The rank of a matrix provides insights into its dimensionality and properties.\",\n",
    "    \"Orthogonal matrices have orthogonal columns and play a significant role in various applications.\",\n",
    "    \"The singular value decomposition (SVD) is a powerful tool in linear algebra for analyzing and decomposing matrices.\",\n",
    "    \"Linear transformations can be represented by matrices, and their properties can be studied algebraically.\",\n",
    "    \"Vector spaces are fundamental structures in linear algebra, providing a framework for studying vectors and linear operations.\"\n",
    "]\n",
    "\n",
    "# Additional test sentence related to linear algebra\n",
    "test_query = \"Is the SVD a useful tool?\"\n",
    "\n",
    "# Test the query_sentence function\n",
    "result, result_idx = query_sentence(test_set, test_query)\n",
    "print(result)"
   ]
  },
  {
   "cell_type": "markdown",
   "metadata": {},
   "source": [
    "### 4-2: Ferdousi's Poems (Bonus)\n",
    "\n",
    "Now, let's proceed with the data from Ferdosi's poems. The content of the ferdosi.txt file consists of the poetic verses by Ferdosi. We'll read this file, split its content into individual sentences, and begin the process of analyzing and exploring the sentiments and structures within these classical Persian poems.\n",
    "\n",
    "apply the techniques you developed earlier for this section, and given a sentence, give a couplet(`بیت`) from ferdousi that relates to it! "
   ]
  },
  {
   "cell_type": "code",
   "execution_count": null,
   "metadata": {},
   "outputs": [],
   "source": [
    "# Code cell\n",
    "\n",
    "query = \"آیا برنا توانا است؟\"\n",
    "\n",
    "## YOUR CODE\n",
    "ans = ...\n",
    "\n",
    "print(ans)"
   ]
  },
  {
   "cell_type": "markdown",
   "metadata": {},
   "source": [
    "## Problem 5: Solving Circuits ``(30 pt.)``\n",
    "As you might recall from your dreadful electric circuits II course, matrix methods are often used to solve electrical circuits. In this problem, we revisit these methods and explore their connections to image processing.\n",
    "\n",
    "![circuit](circuit.png)\n",
    "\n",
    "The **Conductance matrix** $G$, an $n\\times n$ matrix, is defined as follows, where $R_{ij}$ is the resistance between nodes $(i,j)$:\n",
    "\n",
    "$$\n",
    "G_{ij}=\\begin{cases}\n",
    "    0 & \\text{no resistor between nodes}\\\\\n",
    "    g_{ij}=\\frac{1}{R_{ij}}& i\\neq j\\\\\n",
    "    -d_i & i=j\n",
    "\\end{cases}\\qquad ,d_i = \\sum_{j} g_{ij}\n",
    "$$\n",
    "\n",
    "From Kirchhoff's Current Law, we have the relation:\n",
    "\n",
    "$$\n",
    "    Gv + I = 0\n",
    "$$\n",
    "\n",
    "where $I_i$ is the input current to node $i$ from outside the circuit, and $v_i$ is the voltage of node $i$. Finding the voltage of each node from the input currents is trivially represented by $v^* = G^{-1}I$. However, due to the properties of the matrix $G$, it has at most rank $n-1$, leading to potential cases with no solutions, can you explain why? (optional)\n",
    "\n",
    "for example, ignoring the voltage source, find the Conductance matrix and voltages of the circuit in the picture above, what is the equivalent resistance between nodes 1 and 4?\n",
    "\n",
    "> in all sections, use `np.linalg.pinv` for the calculation of matrix inverses"
   ]
  },
  {
   "cell_type": "code",
   "execution_count": null,
   "metadata": {},
   "outputs": [],
   "source": [
    "# Code cell\n",
    "\n",
    "import numpy as np\n",
    "G = ...\n",
    "I = ...\n",
    "\n",
    "v = ..."
   ]
  },
  {
   "cell_type": "markdown",
   "metadata": {},
   "source": [
    "to not leak the answer to this part and to securely check the answer to this problem, we used hashing.\n",
    "you should not care about this result, however for correct evaluation, please round your answers for $v$ to 2 decimal points as in $0.1234 \\to 0.12$, and present your answers for $I$ and $G$ in integer format as in $1.0\\to1$"
   ]
  },
  {
   "cell_type": "code",
   "execution_count": 135,
   "metadata": {},
   "outputs": [
    {
     "name": "stdout",
     "output_type": "stream",
     "text": [
      "status: successful\n"
     ]
    }
   ],
   "source": [
    "# Evaluation Cell\n",
    "import hashlib\n",
    "\n",
    "G_str = ''.join(str(num) for num in G.flat)\n",
    "I_str = ''.join(str(num) for num in I.flat)\n",
    "v_str = ''.join(str(num) for num in v.flat)\n",
    "\n",
    "G_hashed = '991df5e9987ccda662a13606bbb223881eb8a91fb95b06065f023b649e0cfaa6'\n",
    "I_hashed = 'c624bb66d5279fe3f982df646c78b55cb5333937330ebc0d6cac9d4421dd9d6c'\n",
    "v_hashed = '9ee47f8464419299d7a8d2dbec338ba6fe5a898e5473a75a0f839c0065b1374d'\n",
    "\n",
    "assert hashlib.sha256(G_str.encode()).hexdigest() == G_hashed, \"Matrix G is incorrect!\"\n",
    "assert hashlib.sha256(I_str.encode()).hexdigest() == I_hashed, \"Vector I is incorrect!\"\n",
    "assert hashlib.sha256(v_str.encode()).hexdigest() == v_hashed, \"Vector v is incorrect!\"\n",
    "\n",
    "print('status: successful')"
   ]
  },
  {
   "cell_type": "code",
   "execution_count": 148,
   "metadata": {},
   "outputs": [
    {
     "name": "stdout",
     "output_type": "stream",
     "text": [
      "Correct type:\n",
      "x: [-2  0  0  2]\n",
      "string format: -2002\n",
      "hashed: c624bb66d5279fe3f982df646c78b55cb5333937330ebc0d6cac9d4421dd9d6c\n",
      "Wrong type: \n",
      "x: [-2.  0.  0.  2.]\n",
      "string format: -2.00.00.02.0\n",
      "hashed: 0408c7844b6ebf86b6627a3cd0740468694e98ddb1b707e7468978ae40672d4b\n"
     ]
    }
   ],
   "source": [
    "# Example for how the evaluation works:\n",
    "\n",
    "print('Correct type:')\n",
    "x = np.array([-2, 0, 0, 2])\n",
    "print(\"x:\", x)\n",
    "x_str = ''.join(str(num) for num in x.flat)\n",
    "print(\"string format:\", x_str)\n",
    "x_hashed = hashlib.sha256(x_str.encode()).hexdigest()\n",
    "print(\"hashed:\", x_hashed)\n",
    "print(\"Wrong type: \")\n",
    "x = np.array([-2.0, 0.0, 0.0, 2.0])\n",
    "print(\"x:\", x)\n",
    "x_str = ''.join(str(num) for num in x.flat)\n",
    "print(\"string format:\", x_str)\n",
    "x_hashed = hashlib.sha256(x_str.encode()).hexdigest()\n",
    "print(\"hashed:\", x_hashed)"
   ]
  },
  {
   "cell_type": "markdown",
   "metadata": {},
   "source": [
    "\n",
    "### 5-1. Problem Statement\n",
    "\n",
    "In an electrical circuit, a set of nodes denoted as $B$ receives externally set voltage values, where $b=|B|$, and no external source is connected to the remaining nodes. Leveraging these externally set voltages, the goal is to determine the voltages on the other nodes in the circuit.\n",
    "\n",
    "From Kirchhoff's Current Law, we have the relation:\n",
    "\n",
    "$$\n",
    "    \\forall i\\in V/B\\quad v_i=\\frac{1}{d_i}\\sum_{j\\neq i}G_{ji}v_j\n",
    "$$\n",
    "\n",
    "let $m$ be a vector that satisfies:\n",
    "$$ m(i)=\n",
    "\\begin{cases}\n",
    "      0, & \\text{$v_i$ is set by an outside source}\\\\\n",
    "      1, & o.w.\\\\\n",
    "\\end{cases} \\qquad, M = diag(m)\n",
    "$$\n",
    "\n",
    "The matrix $\\tilde{M}$ is defined as $M$ but with all-zero rows removed.\n",
    "\n",
    "Additionally, the following relation can be found:\n",
    "\n",
    "$$\n",
    "    MGv + MI = 0 = MGv \\Rightarrow \\tilde{M}Gv=\\tilde{G}v=0, \\quad \\tilde{G}\\in\\mathbb{R}^{(n-b)\\times n}\n",
    "$$\n",
    "\n",
    "Now, separating the known voltages from the unknown voltages, denoting the unknown with $v_u$ and the known with $v_b$, the relation is given by:\n",
    "\n",
    "$$\n",
    "    \\tilde{G}v=0=\\sum_{i}\\tilde{g}_iv_i=\\sum_{i\\in V/B}\\tilde{g}_iv_i+\\sum_{i\\in B}\\tilde{g}_iv_i=G_bv_b + G_uv_u=0\\\\\n",
    "    G_b\\in \\mathbb{R}^{(n-b)\\times b}, \\quad G_u\\in \\mathbb{R}^{(n-b)\\times(n-b)}\\\\\n",
    "    G_uv_u=-G_bv_b\\Rightarrow v_u = -G_u^{-1}G_bv_b\\\\\n",
    "$$\n",
    "\n",
    "Using these relations, write a function `find_voltage(m, vb, G)` which returns the total voltage vector $v$, given the vectors $m, v_b$ and the conductance matrix $G$."
   ]
  },
  {
   "cell_type": "code",
   "execution_count": null,
   "metadata": {},
   "outputs": [],
   "source": [
    "# Code cell\n",
    "def find_voltage(m, vb, G):\n",
    "    v = ...\n",
    "    return v"
   ]
  },
  {
   "cell_type": "code",
   "execution_count": null,
   "metadata": {},
   "outputs": [],
   "source": [
    "# Evaluation cell\n",
    "G = np.matrix('-3 1 0 2; 1 -5 1 3; 0 1 -2 1; 2 3 1 -6')\n",
    "m = np.array([0, 1, 1, 0]).T\n",
    "vb = np.array([[-0.48, 0.24]]).T\n",
    "\n",
    "v = find_voltage(m, vb, G)\n",
    "\n",
    "assert np.linalg.norm(v - np.array([[-0.48, 0.08, 0.16, 0.24]]).T) < 1e-10, \"wrong!\""
   ]
  },
  {
   "cell_type": "markdown",
   "metadata": {},
   "source": [
    "### 5-2: from voltages to image processing (Bonus)\n",
    "\n",
    "Forgetting about circuits, here we have created a method that can infer unknown values on nodes of a graph from known ones, by enforcing the KCL laws, which in a way are just a constraint on how *smoothly* the values change on this graph.\n",
    "\n",
    "In this section, we explore the intriguing connection between electrical circuit concepts and image processing, specifically focusing on the process of image inpainting. Inpainting is a classical signal processing problem where the objective is to fill in missing values within a partially observed signal. The chosen context for this exploration is image processing, treating the image as a signal and modeling it as a 2D grid graph(circuit), being a grid of resistors.\n",
    "\n",
    "Utilizing the OpenCV (cv2) package, load a grayscale version(single channel) of the image(`pic1.png`) with a resolution of 128 by 128.\n",
    "Display the loaded image using matplotlib.pyplot, ensuring that the RGB image is converted to grayscale to reduce the color channels from three to one."
   ]
  },
  {
   "cell_type": "code",
   "execution_count": null,
   "metadata": {},
   "outputs": [],
   "source": [
    "# Code cell"
   ]
  },
  {
   "cell_type": "markdown",
   "metadata": {},
   "source": [
    "Now flatten the image matrix to get the signal vector.\n",
    "Then, construct the observation vector $m$ by randomly selecting indices to 1 or 0 with probability $p = 0.5$ and construct the vector $v_b$ as before, creating a vector of observed *voltages*."
   ]
  },
  {
   "cell_type": "code",
   "execution_count": null,
   "metadata": {},
   "outputs": [],
   "source": [
    "# Code cell"
   ]
  },
  {
   "cell_type": "markdown",
   "metadata": {},
   "source": [
    "the underlying conductance matrix is given below, do not change this cell.\n",
    "\n",
    "for those who might want to delve deeper, a Kings graph was used to model this specific problems geometry.\n",
    "in this model all the resistances are set to 1, as we are assuming we know nothing about the underlying data besides casual relations between pixels, if we had more information, one might design specific circuits and conductance matrices fine tuned for their problem."
   ]
  },
  {
   "cell_type": "code",
   "execution_count": null,
   "metadata": {},
   "outputs": [],
   "source": [
    "# do not edit this cell \n",
    "N = 128\n",
    "G1 = np.zeros((N, N))\n",
    "np.fill_diagonal(G1[:-1, 1:], 1)\n",
    "np.fill_diagonal(G1[1:, :-1], 1)\n",
    "I = np.eye(N)\n",
    "G2 = np.kron(I, G1) + np.kron(G1, I) + np.kron(G1, G1)\n",
    "G = G2 - np.diag(G2.sum(axis=1))"
   ]
  },
  {
   "cell_type": "markdown",
   "metadata": {},
   "source": [
    "Using the conductance matrix of the circuit, and the sections before, inpaint the lost values from the observed signal, and then display the original, observed and inpained image in a single plot."
   ]
  },
  {
   "cell_type": "code",
   "execution_count": null,
   "metadata": {},
   "outputs": [],
   "source": [
    "# Code cell"
   ]
  }
 ],
 "metadata": {
  "kernelspec": {
   "display_name": "Python 3",
   "language": "python",
   "name": "python3"
  },
  "language_info": {
   "codemirror_mode": {
    "name": "ipython",
    "version": 3
   },
   "file_extension": ".py",
   "mimetype": "text/x-python",
   "name": "python",
   "nbconvert_exporter": "python",
   "pygments_lexer": "ipython3",
   "version": "3.11.4"
  }
 },
 "nbformat": 4,
 "nbformat_minor": 2
}
